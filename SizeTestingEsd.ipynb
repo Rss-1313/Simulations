{
  "nbformat": 4,
  "nbformat_minor": 0,
  "metadata": {
    "colab": {
      "provenance": [],
      "gpuType": "T4",
      "authorship_tag": "ABX9TyMjUvrzTC7350SRNT1qEAnH",
      "include_colab_link": true
    },
    "kernelspec": {
      "name": "ir",
      "display_name": "R"
    },
    "language_info": {
      "name": "R"
    },
    "accelerator": "GPU"
  },
  "cells": [
    {
      "cell_type": "markdown",
      "metadata": {
        "id": "view-in-github",
        "colab_type": "text"
      },
      "source": [
        "<a href=\"https://colab.research.google.com/github/Rss-1313/Simulations/blob/main/SizeTestingEsd.ipynb\" target=\"_parent\"><img src=\"https://colab.research.google.com/assets/colab-badge.svg\" alt=\"Open In Colab\"/></a>"
      ]
    },
    {
      "cell_type": "code",
      "execution_count": null,
      "metadata": {
        "id": "3sQYo4wQ1rak"
      },
      "outputs": [],
      "source": [
        "e1=list()\n",
        "di=c()\n",
        "n1=3/(pi^2)\n",
        "Pik=c()\n",
        "Pjk=c()\n",
        "dif=c()\n",
        "Ik=-1000:1000\n",
        "Pik[1001]=0\n",
        "for(k2 in 1:1000)\n",
        "{\n",
        "  Pik[1001-k2]=n1/(k2^2)\n",
        "  Pik[1001+k2]=n1/(k2^2)\n",
        "}\n",
        "Jk=-1000:1000\n",
        "Pjk[1000:1002]=c(0.5,0,0.5)\n",
        "for(k1 in 1:999)\n",
        "{\n",
        "  Pjk[1000-k1]=0\n",
        "  Pjk[1002+k1]=0\n",
        "}\n",
        "for(u in 1:500)\n",
        "{\n",
        "for(k in 1:2)\n",
        "{\n",
        "\n",
        "\n",
        "  n=400\n",
        "  p=400\n",
        "  A=matrix(nrow=n,ncol=p,byrow=T)\n",
        "  for(i in 1:n)\n",
        "  {\n",
        "    if(i %% 2 ==0)\n",
        "    {\n",
        "      A[i,]=sample(Ik,size=p,prob=Pik,replace = TRUE)\n",
        "    }\n",
        "    else\n",
        "      A[i,]=sample(Jk,size=p,prob=Pjk,replace = TRUE)\n",
        "  }\n",
        "  library(MASS)\n",
        "  tau=matrix(rep(0,p^2),nrow=p,ncol=p,byrow=T)\n",
        "  for(m in 1:n)\n",
        "  {\n",
        "    for(q in 1:n)\n",
        "    {\n",
        "      if(m != q)\n",
        "      {\n",
        "        tau = tau + ((as.matrix(sign(A[m,] - A[q,])) %*% t(as.matrix(sign(A[m,] - A[q,]))))/(n*(n-1)))\n",
        "      }\n",
        "    }\n",
        "  }\n",
        "  T=tau-diag(diag(tau))\n",
        " # tra= sum(diag(T%*%T))/p\n",
        "  #avg[k]=tra\n",
        "  e=eigen(T)\n",
        "  e1[[k]]=e$values\n",
        "}\n",
        "di[u]=ks.test(e1[[1]],e[[2]])$s\n",
        "}\n",
        "#e2=rep(0,p)\n",
        "#for(j in 1:k)\n",
        "#{\n",
        "#  e2=(e2+e1[[j]])\n",
        "#}\n",
        "#e11=(e1[[1]]+e1[[2]])/2\n",
        "#emean=e2/k\n",
        "#for(v in 1:length(un))\n",
        "#{\n",
        "#esd1[v]=(length(which(e1[[k]]<un[v])))/p\n",
        "#}\n",
        "#esd[[u]]=esd1\n",
        "#dif[u]=sum(abs(es-esd[[u]]))\n",
        "#print(u)\n",
        "#}\n",
        "#es=(esd[[1]]+esd[[2]]+esd[[3]]+esd[[4]]+esd[[5]]+esd[[6]]+esd[[7]]+esd[[8]]+esd[[9]]+esd[[10]])/10\n",
        "#es\n",
        "\n",
        "\n",
        "#avgdis[u]=sqrt(sum(avgdi)/k)\n",
        "\n",
        "\n",
        "\n",
        "\n",
        "#q1=quantile(dif,probs =c( 0.95))\n",
        "#q1=c(0.635725,1.052700)\n",
        "#w=length(which(es <q1[1]))\n",
        "#w1=length(which(dif>q1[2]))\n",
        "#(w+w1)/100\n"
      ]
    },
    {
      "cell_type": "code",
      "source": [
        "q=quantile(di,probs=0.95)\n"
      ],
      "metadata": {
        "colab": {
          "base_uri": "https://localhost:8080/",
          "height": 34
        },
        "id": "cOaVl2U9Bfnr",
        "outputId": "972ff4b8-ec47-4dc4-fdf2-64284cd34d91"
      },
      "execution_count": 29,
      "outputs": [
        {
          "output_type": "display_data",
          "data": {
            "text/html": [
              "<strong>95%:</strong> 0.530105"
            ],
            "text/markdown": "**95%:** 0.530105",
            "text/latex": "\\textbf{95\\textbackslash{}\\%:} 0.530105",
            "text/plain": [
              "     95% \n",
              "0.530105 "
            ]
          },
          "metadata": {}
        }
      ]
    },
    {
      "cell_type": "code",
      "source": [
        "e11=list()\n",
        "dii=c()\n",
        "n11=3/(pi^2)\n",
        "Pik1=c()\n",
        "Pjk1=c()\n",
        "Ik1=-1000:1000\n",
        "Pik1[1001]=0\n",
        "for(k3 in 1:1000)\n",
        "{\n",
        "  Pik1[1001-k3]=n11/(k3^2)\n",
        "  Pik1[1001+k3]=n11/(k3^2)\n",
        "}\n",
        "Jk1=-1000:1000\n",
        "Pjk1[1000:1002]=c(0.5,0,0.5)\n",
        "for(k4 in 1:999)\n",
        "{\n",
        "  Pjk1[1000-k4]=0\n",
        "  Pjk1[1002+k4]=0\n",
        "}\n",
        "for(u1 in 1:1000)\n",
        "{\n",
        "  for(k5 in 1:2)\n",
        "  {\n",
        "\n",
        "\n",
        "    n=400\n",
        "    p=400\n",
        "    A1=matrix(nrow=n,ncol=p,byrow=T)\n",
        "    for(i in 1:n)\n",
        "    {\n",
        "      if(i %% 2 ==0)\n",
        "      {\n",
        "        A1[i,]=sample(Ik1,size=p,prob=Pik1,replace = TRUE)\n",
        "      }\n",
        "      else\n",
        "        A1[i,]=sample(Jk1,size=p,prob=Pjk1,replace = TRUE)\n",
        "    }\n",
        "    library(MASS)\n",
        "    tau1=matrix(rep(0,p^2),nrow=p,ncol=p,byrow=T)\n",
        "    for(m1 in 1:n)\n",
        "    {\n",
        "      for(q1 in 1:n)\n",
        "      {\n",
        "        if(m1 != q1)\n",
        "        {\n",
        "          tau1 = tau1 + ((as.matrix(sign(A1[m1,] - A1[q1,])) %*% t(as.matrix(sign(A1[m1,] - A1[q1,]))))/(n*(n-1)))\n",
        "        }\n",
        "      }\n",
        "    }\n",
        "    T1=tau1-diag(diag(tau1))\n",
        "    # tra= sum(diag(T%*%T))/p\n",
        "    #avg[k]=tra\n",
        "    ee=eigen(T)\n",
        "    e11[[k5]]=e$values\n",
        "  }\n",
        "  dii[u1]=ks.test(e11[[1]],e11[[2]])$s\n",
        "\n",
        "}\n",
        "\n",
        "length(which(di>d))/500"
      ],
      "metadata": {
        "id": "vkqa1dlG_7oV"
      },
      "execution_count": 3,
      "outputs": []
    },
    {
      "cell_type": "code",
      "source": [
        "ks.test(e1[[1]],e[[2]])$s\n"
      ],
      "metadata": {
        "colab": {
          "base_uri": "https://localhost:8080/",
          "height": 34
        },
        "id": "xpEtMvexBkDy",
        "outputId": "fd2af030-f465-474d-ea64-a47f27249de8"
      },
      "execution_count": 17,
      "outputs": [
        {
          "output_type": "display_data",
          "data": {
            "text/html": [
              "<strong>D:</strong> 0.5207"
            ],
            "text/markdown": "**D:** 0.5207",
            "text/latex": "\\textbf{D:} 0.5207",
            "text/plain": [
              "     D \n",
              "0.5207 "
            ]
          },
          "metadata": {}
        }
      ]
    },
    {
      "cell_type": "code",
      "source": [
        "length(e1[[2]])"
      ],
      "metadata": {
        "colab": {
          "base_uri": "https://localhost:8080/",
          "height": 34
        },
        "id": "61nYpc7vDDOe",
        "outputId": "3545014a-692b-45b2-9833-c2c7932deff0"
      },
      "execution_count": 8,
      "outputs": [
        {
          "output_type": "display_data",
          "data": {
            "text/html": [
              "100"
            ],
            "text/markdown": "100",
            "text/latex": "100",
            "text/plain": [
              "[1] 100"
            ]
          },
          "metadata": {}
        }
      ]
    }
  ]
}